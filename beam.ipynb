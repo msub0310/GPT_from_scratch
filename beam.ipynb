{
 "cells": [
  {
   "cell_type": "code",
   "execution_count": 49,
   "metadata": {},
   "outputs": [],
   "source": [
    "import numpy as np\n",
    "\n",
    "def log(number):\n",
    "    return np.log(number + 1e-10)\n",
    "\n",
    "def naive_beam_search_decoder(predictions, k):\n",
    "    #prediction = (seq_len, V)\n",
    "    sequences = [[list(), 1.0]]\n",
    "\n",
    "    for row in predictions:\n",
    "        all_candidates = list()\n",
    "\n",
    "        for i in range(len(sequences)):\n",
    "            seq, score = sequences[i]\n",
    "\n",
    "            for j in range(len(row)):\n",
    "                new_seq = seq + [j]\n",
    "                new_score = score * -log(row[j])\n",
    "                candidate = [new_seq, new_score]\n",
    "                all_candidates.append(candidate)\n",
    "\n",
    "        ordered = sorted(all_candidates, key=lambda tup:tup[1])\n",
    "        sequences = ordered[:k]\n",
    "    return sequences"
   ]
  },
  {
   "cell_type": "code",
   "execution_count": 82,
   "metadata": {},
   "outputs": [
    {
     "data": {
      "text/plain": [
       "array([[0.1675, 0.454 , 0.3319, 0.4295, 0.7205, 0.8596, 0.2066, 0.585 ,\n",
       "        0.1643, 0.0287],\n",
       "       [0.8811, 0.6115, 0.4724, 0.0299, 0.0956, 0.0445, 0.4709, 0.0306,\n",
       "        0.2603, 0.943 ],\n",
       "       [0.7326, 0.277 , 0.3003, 0.5229, 0.778 , 0.5966, 0.7943, 0.1012,\n",
       "        0.102 , 0.9202],\n",
       "       [0.9682, 0.908 , 0.2532, 0.4717, 0.1147, 0.4863, 0.748 , 0.3923,\n",
       "        0.1029, 0.666 ]])"
      ]
     },
     "execution_count": 82,
     "metadata": {},
     "output_type": "execute_result"
    }
   ],
   "source": [
    "import random\n",
    "seq_len = 4\n",
    "V = 10\n",
    "predictions = [[round(random.random(), 4) for _ in range(V)] for _ in range(seq_len)]\n",
    "np.array(predictions)"
   ]
  },
  {
   "cell_type": "code",
   "execution_count": null,
   "metadata": {},
   "outputs": [],
   "source": []
  }
 ],
 "metadata": {
  "interpreter": {
   "hash": "828202fa85a8b396542176841487990126fada61002bf35be36a9dd70b81875f"
  },
  "kernelspec": {
   "display_name": "Python 3.8.5 64-bit ('at_augmentation': conda)",
   "name": "python3"
  },
  "language_info": {
   "codemirror_mode": {
    "name": "ipython",
    "version": 3
   },
   "file_extension": ".py",
   "mimetype": "text/x-python",
   "name": "python",
   "nbconvert_exporter": "python",
   "pygments_lexer": "ipython3",
   "version": "3.8.5"
  },
  "metadata": {
   "interpreter": {
    "hash": "337f1a600d345c50cd007a2461b073851b5ec4b77bc6c65adb33d085b42175ad"
   }
  },
  "orig_nbformat": 2
 },
 "nbformat": 4,
 "nbformat_minor": 2
}
